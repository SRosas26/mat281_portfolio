{
  "cells": [
    {
      "cell_type": "markdown",
      "metadata": {
        "id": "U_tx0RjShCvu"
      },
      "source": [
        "<a href=\"https://colab.research.google.com/github/fralfaro/MAT281_2024/blob/main/docs/homeworks/hw_02.ipynb\" target=\"_parent\"><img src=\"https://colab.research.google.com/assets/colab-badge.svg\" alt=\"Open In Colab\"/></a>\n",
        "\n",
        "\n",
        "\n",
        "# MAT281 - Tarea N°02\n",
        "\n",
        "\n",
        "## Instrucciones\n",
        "\n",
        "1.- Completa tus datos personales (nombre y rol USM) en siguiente celda.\n",
        "\n",
        "\n",
        "* __Nombre__: Sebastián Rosas Vargas\n",
        "\n",
        "* __Rol__: 201611560-9\n",
        "\n",
        "2.- Debes _subir_ este archivo con tus cambios a tu repositorio personal del curso, incluyendo datos, imágenes, scripts, etc.\n",
        "\n",
        "3.- Se evaluará:\n",
        "   - Soluciones\n",
        "   - Código\n",
        "   - Al presionar  `Kernel -> Restart Kernel and Run All Cells` deben ejecutarse todas las celdas sin error.\n",
        "   \n",
        "4.- Esta Tarea debe ser entregada en **Dos Jupyter Notebooks Distinto**.\n",
        "   * **Ejemplo**: `hw_02_part_01.ipynb`, `hw_02_part_02.ipynb`."
      ]
    },
    {
      "cell_type": "markdown",
      "metadata": {
        "id": "s_TJHI4OhCv0"
      },
      "source": [
        "## II.- Titanic - Machine Learning from Disaster\n",
        "\n",
        "<img src=\"https://i.pinimg.com/originals/8c/ef/e7/8cefe799c4d5d2ad4ad7f6524d3838f4.png\" width = \"400\" align=\"center\"/>\n"
      ]
    },
    {
      "cell_type": "markdown",
      "metadata": {
        "id": "t7MLo6sMhCv0"
      },
      "source": [
        "El desafío **Titanic - Machine Learning from Disaster** en [Kaggle](https://www.kaggle.com/competitions/titanic/overview/description) invita a predecir qué pasajeros sobrevivieron al naufragio del Titanic mediante un modelo de machine learning. Utiliza datos reales de los pasajeros, como su nombre, edad, género y clase socioeconómica, para explorar patrones de supervivencia y construir un modelo predictivo. Este es uno de los desafíos más populares de Kaggle y un excelente punto de partida para aprender sobre machine learning y análisis de datos.\n",
        "\n",
        "### Pasos para participar:\n",
        "\n",
        "1. **Unirse a la competencia**:\n",
        "   - [Crea una cuenta o inicia sesión en Kaggle](https://www.kaggle.com/account/login?returnUrl=%2Fc%2Ftitanic) y acepta las reglas para acceder a los datos de la competencia.\n",
        "   \n",
        "2. **Descargar y explorar los datos**:\n",
        "   - Descarga los archivos `train.csv` y `test.csv` desde la [página de datos](https://www.kaggle.com/competitions/titanic/data).\n",
        "   - `train.csv` contiene información de 891 pasajeros, incluyendo si sobrevivieron o no (columna `Survived`). En `test.csv`, se oculta esta columna para que tu modelo prediga la supervivencia de 418 pasajeros adicionales.\n",
        "\n",
        "3. **Desarrollar el modelo**:\n",
        "   - Usa `train.csv` para explorar y descubrir patrones, luego entrena un modelo de machine learning que pueda predecir la supervivencia en `test.csv`. Un recurso útil para aprender es el [tutorial de Alexis Cook](https://www.kaggle.com/alexisbcook/titanic-tutorial), que explica paso a paso cómo hacer tu primera predicción.\n",
        "   - Puedes explorar notebooks de otros participantes para inspiración y técnicas avanzadas en la [sección de notebooks](https://www.kaggle.com/c/titanic/notebooks).\n",
        "\n",
        "4. **Realizar una predicción y enviar tu archivo**:\n",
        "   - El archivo CSV de predicciones debe tener dos columnas: `PassengerId` y `Survived`. Puedes consultar un ejemplo en el archivo `gender_submission.csv` disponible en la [página de datos](https://www.kaggle.com/competitions/titanic/data).\n",
        "   - Sube tu archivo en la sección de envíos y revisa tu puntaje de precisión, que mide el porcentaje de pasajeros que tu modelo predijo correctamente.\n",
        "\n",
        "5. **Revisar el leaderboard y mejorar el modelo**:\n",
        "   - Ve tu posición en el [leaderboard](https://www.kaggle.com/c/titanic/leaderboard) y mejora tu modelo basándote en ideas de los foros o pruebas adicionales.\n",
        "\n",
        "### Ayuda y recursos adicionales:\n",
        "\n",
        "- [Foro de discusión del Titanic](https://www.kaggle.com/c/titanic/discussion): Un espacio donde puedes hacer preguntas y ver consejos de otros participantes.\n",
        "- [Vídeo sobre la jerga de Kaggle](https://www.youtube.com/watch?v=sEJHyuWKd-s) por Dr. Rachael Tatman, para entender mejor los términos comunes en Kaggle.\n",
        "- [Notebooks de la competencia](https://www.kaggle.com/c/titanic/notebooks): Revisa notebooks compartidos para ver cómo otros abordan el desafío.\n",
        "\n",
        "Este desafío es ideal para principiantes en machine learning y permite practicar desde la limpieza de datos hasta el desarrollo y evaluación de modelos."
      ]
    },
    {
      "cell_type": "code",
      "source": [
        "# Importar bibliotecas necesarias\n",
        "import pandas as pd\n",
        "import matplotlib.pyplot as plt\n",
        "import seaborn as sns\n",
        "\n",
        "# Configurar estilo de gráficos de seaborn\n",
        "sns.set_theme(style=\"whitegrid\")\n",
        "\n",
        "from google.colab import drive\n",
        "drive.mount('/content/drive')\n",
        "\n",
        "# Cargar los archivos desde una ruta en tu Google Drive\n",
        "train_data = pd.read_csv('/content/drive/MyDrive/Titanic/train.csv')\n",
        "test_data = pd.read_csv('/content/drive/MyDrive/Titanic/test.csv')\n",
        "\n",
        "\n",
        "# Exploración de los datos de entrenamiento\n",
        "print(\"Primeras filas de train_data:\")\n",
        "print(train_data.head())\n",
        "print(\"\\nDescripción de train_data:\")\n",
        "print(train_data.describe())\n",
        "\n",
        "# Análisis exploratorio inicial\n",
        "\n",
        "# Gráfica de distribución de sobrevivientes\n",
        "plt.figure(figsize=(6, 4))\n",
        "sns.countplot(x='Survived', data=train_data, palette='Set2')\n",
        "plt.title('Distribución de Sobrevivientes')\n",
        "plt.xlabel('Sobrevivió')\n",
        "plt.ylabel('Conteo')\n",
        "plt.xticks([0, 1], ['No', 'Sí'])\n",
        "plt.show()\n",
        "\n",
        "# Gráfica de supervivencia por género\n",
        "plt.figure(figsize=(8, 5))\n",
        "sns.countplot(x='Survived', hue='Sex', data=train_data, palette='pastel')\n",
        "plt.title('Supervivencia por Género')\n",
        "plt.xlabel('Sobrevivió')\n",
        "plt.ylabel('Conteo')\n",
        "plt.xticks([0, 1], ['No', 'Sí'])\n",
        "plt.show()\n",
        "\n",
        "# Gráfica de supervivencia por clase de boleto\n",
        "plt.figure(figsize=(8, 5))\n",
        "sns.countplot(x='Survived', hue='Pclass', data=train_data, palette='muted')\n",
        "plt.title('Supervivencia por Clase de Boleto')\n",
        "plt.xlabel('Sobrevivió')\n",
        "plt.ylabel('Conteo')\n",
        "plt.xticks([0, 1], ['No', 'Sí'])\n",
        "plt.show()\n",
        "\n",
        "# Gráfica de distribución de edad\n",
        "plt.figure(figsize=(10, 6))\n",
        "sns.histplot(train_data['Age'], bins=30, kde=True, color='blue')\n",
        "plt.title('Distribución de Edades de los Pasajeros')\n",
        "plt.xlabel('Edad')\n",
        "plt.ylabel('Frecuencia')\n",
        "plt.show()\n"
      ],
      "metadata": {
        "colab": {
          "base_uri": "https://localhost:8080/",
          "height": 1000
        },
        "id": "i4Lz8EVoOGER",
        "outputId": "5aa2639c-5cd3-4730-871f-ee9ba42322af"
      },
      "execution_count": 1,
      "outputs": [
        {
          "output_type": "stream",
          "name": "stdout",
          "text": [
            "Mounted at /content/drive\n",
            "Primeras filas de train_data:\n",
            "   PassengerId  Survived  Pclass  \\\n",
            "0            1         0       3   \n",
            "1            2         1       1   \n",
            "2            3         1       3   \n",
            "3            4         1       1   \n",
            "4            5         0       3   \n",
            "\n",
            "                                                Name     Sex   Age  SibSp  \\\n",
            "0                            Braund, Mr. Owen Harris    male  22.0      1   \n",
            "1  Cumings, Mrs. John Bradley (Florence Briggs Th...  female  38.0      1   \n",
            "2                             Heikkinen, Miss. Laina  female  26.0      0   \n",
            "3       Futrelle, Mrs. Jacques Heath (Lily May Peel)  female  35.0      1   \n",
            "4                           Allen, Mr. William Henry    male  35.0      0   \n",
            "\n",
            "   Parch            Ticket     Fare Cabin Embarked  \n",
            "0      0         A/5 21171   7.2500   NaN        S  \n",
            "1      0          PC 17599  71.2833   C85        C  \n",
            "2      0  STON/O2. 3101282   7.9250   NaN        S  \n",
            "3      0            113803  53.1000  C123        S  \n",
            "4      0            373450   8.0500   NaN        S  \n",
            "\n",
            "Descripción de train_data:\n",
            "       PassengerId    Survived      Pclass         Age       SibSp  \\\n",
            "count   891.000000  891.000000  891.000000  714.000000  891.000000   \n",
            "mean    446.000000    0.383838    2.308642   29.699118    0.523008   \n",
            "std     257.353842    0.486592    0.836071   14.526497    1.102743   \n",
            "min       1.000000    0.000000    1.000000    0.420000    0.000000   \n",
            "25%     223.500000    0.000000    2.000000   20.125000    0.000000   \n",
            "50%     446.000000    0.000000    3.000000   28.000000    0.000000   \n",
            "75%     668.500000    1.000000    3.000000   38.000000    1.000000   \n",
            "max     891.000000    1.000000    3.000000   80.000000    8.000000   \n",
            "\n",
            "            Parch        Fare  \n",
            "count  891.000000  891.000000  \n",
            "mean     0.381594   32.204208  \n",
            "std      0.806057   49.693429  \n",
            "min      0.000000    0.000000  \n",
            "25%      0.000000    7.910400  \n",
            "50%      0.000000   14.454200  \n",
            "75%      0.000000   31.000000  \n",
            "max      6.000000  512.329200  \n"
          ]
        },
        {
          "output_type": "stream",
          "name": "stderr",
          "text": [
            "<ipython-input-1-c3521c8d551f>:27: FutureWarning: \n",
            "\n",
            "Passing `palette` without assigning `hue` is deprecated and will be removed in v0.14.0. Assign the `x` variable to `hue` and set `legend=False` for the same effect.\n",
            "\n",
            "  sns.countplot(x='Survived', data=train_data, palette='Set2')\n"
          ]
        },
        {
          "output_type": "display_data",
          "data": {
            "text/plain": [
              "<Figure size 600x400 with 1 Axes>"
            ],
            "image/png": "[encoded data removed]"
          },
          "metadata": {}
        },
        {
          "output_type": "display_data",
          "data": {
            "text/plain": [
              "<Figure size 800x500 with 1 Axes>"
            ],
            "image/png": "[encoded data removed]"
          },
          "metadata": {}
        },
        {
          "output_type": "display_data",
          "data": {
            "text/plain": [
              "<Figure size 800x500 with 1 Axes>"
            ],
            "image/png": "[encoded data removed]"
          },
          "metadata": {}
        },
        {
          "output_type": "display_data",
          "data": {
            "text/plain": [
              "<Figure size 1000x600 with 1 Axes>"
            ],
            "image/png": "[encoded data removed]"
          },
          "metadata": {}
        }
      ]
    },
    {
      "cell_type": "markdown",
      "source": [
        "Los gráficos del análisis exploratorio revelan varios patrones clave en los datos de pasajeros del Titanic. La distribución de sobrevivientes muestra que una mayor cantidad de pasajeros no sobrevivió al naufragio en comparación con los que sí lo hicieron. Al analizar la supervivencia por género, se observa que las mujeres tenían una probabilidad significativamente mayor de sobrevivir en comparación con los hombres. Además, la clase de boleto también influyó en las tasas de supervivencia: los pasajeros de primera clase tuvieron una mayor tasa de supervivencia, mientras que la mayoría de los fallecimientos ocurrieron en la tercera clase. Por último, la distribución de edades indica que la mayoría de los pasajeros tenían entre 20 y 40 años, con una presencia notable de niños y adultos mayores"
      ],
      "metadata": {
        "id": "XeWjKuVtyDd0"
      }
    },
    {
      "cell_type": "code",
      "source": [
        "# Importar bibliotecas necesarias\n",
        "import pandas as pd\n",
        "import matplotlib.pyplot as plt\n",
        "import seaborn as sns\n",
        "from sklearn.model_selection import train_test_split\n",
        "from sklearn.linear_model import LogisticRegression\n",
        "from sklearn.metrics import accuracy_score, classification_report\n",
        "from sklearn.preprocessing import LabelEncoder\n",
        "\n",
        "# Configurar estilo de gráficos\n",
        "sns.set_theme(style=\"whitegrid\")\n",
        "\n",
        "from google.colab import drive\n",
        "drive.mount('/content/drive')\n",
        "\n",
        "# Cargar los archivos desde una ruta en tu Google Drive\n",
        "train_data = pd.read_csv('/content/drive/MyDrive/Titanic/train.csv')\n",
        "test_data = pd.read_csv('/content/drive/MyDrive/Titanic/test.csv')\n",
        "\n",
        "# Limpieza de datos y preprocesamiento\n",
        "def clean_data(data):\n",
        "    # Llenar valores nulos en 'Age' con la mediana de la columna\n",
        "    data['Age'].fillna(data['Age'].median(), inplace=True)\n",
        "    # Llenar valores nulos en 'Embarked' con el modo de la columna\n",
        "    data['Embarked'].fillna(data['Embarked'].mode()[0], inplace=True)\n",
        "    # Llenar valores nulos en 'Fare' con la mediana de la columna (en el set de test)\n",
        "    data['Fare'].fillna(data['Fare'].median(), inplace=True)\n",
        "\n",
        "    # Convertir 'Sex' y 'Embarked' en variables numéricas\n",
        "    label_encoder = LabelEncoder()\n",
        "    data['Sex'] = label_encoder.fit_transform(data['Sex'])\n",
        "    data['Embarked'] = label_encoder.fit_transform(data['Embarked'])\n",
        "\n",
        "    return data\n",
        "\n",
        "# Limpiar los datos de entrenamiento y prueba\n",
        "train_data = clean_data(train_data)\n",
        "test_data = clean_data(test_data)\n",
        "\n",
        "# Selección de características\n",
        "features = ['Pclass', 'Sex', 'Age', 'SibSp', 'Parch', 'Fare', 'Embarked']\n",
        "X = train_data[features]\n",
        "y = train_data['Survived']\n",
        "\n",
        "# Dividir los datos en conjuntos de entrenamiento y prueba\n",
        "X_train, X_val, y_train, y_val = train_test_split(X, y, test_size=0.2, random_state=42)\n",
        "\n",
        "# Entrenar un modelo de Regresión Logística\n",
        "model = LogisticRegression(max_iter=1000)\n",
        "model.fit(X_train, y_train)\n",
        "\n",
        "# Predecir en el conjunto de validación y evaluar el rendimiento\n",
        "y_pred = model.predict(X_val)\n",
        "print(\"Accuracy en el conjunto de validación:\", accuracy_score(y_val, y_pred))\n",
        "print(\"\\nInforme de clasificación:\\n\", classification_report(y_val, y_pred))\n",
        "\n",
        "# Hacer predicciones en el conjunto de prueba\n",
        "test_predictions = model.predict(test_data[features])\n",
        "\n",
        "# Crear un archivo de envío\n",
        "submission = pd.DataFrame({\n",
        "    'PassengerId': test_data['PassengerId'],\n",
        "    'Survived': test_predictions\n",
        "})\n",
        "\n",
        "# Guardar el archivo CSV de envío\n",
        "submission.to_csv('submission.csv', index=False)\n",
        "print(\"Archivo 'submission.csv' creado con éxito.\")\n",
        "\n",
        "# Descargar el archivo de predicción\n",
        "from google.colab import files\n",
        "files.download('submission.csv')\n"
      ],
      "metadata": {
        "colab": {
          "base_uri": "https://localhost:8080/",
          "height": 1000
        },
        "id": "bjkygIN7y2fF",
        "outputId": "d20b6aa7-8868-42b2-98cf-54fb4efd8cf9"
      },
      "execution_count": 2,
      "outputs": [
        {
          "output_type": "stream",
          "name": "stdout",
          "text": [
            "Drive already mounted at /content/drive; to attempt to forcibly remount, call drive.mount(\"/content/drive\", force_remount=True).\n",
            "Accuracy en el conjunto de validación: 0.8100558659217877\n",
            "\n",
            "Informe de clasificación:\n",
            "               precision    recall  f1-score   support\n",
            "\n",
            "           0       0.83      0.86      0.84       105\n",
            "           1       0.79      0.74      0.76        74\n",
            "\n",
            "    accuracy                           0.81       179\n",
            "   macro avg       0.81      0.80      0.80       179\n",
            "weighted avg       0.81      0.81      0.81       179\n",
            "\n",
            "Archivo 'submission.csv' creado con éxito.\n"
          ]
        },
        {
          "output_type": "stream",
          "name": "stderr",
          "text": [
            "<ipython-input-2-5415c18a99d4>:23: FutureWarning: A value is trying to be set on a copy of a DataFrame or Series through chained assignment using an inplace method.\n",
            "The behavior will change in pandas 3.0. This inplace method will never work because the intermediate object on which we are setting values always behaves as a copy.\n",
            "\n",
            "For example, when doing 'df[col].method(value, inplace=True)', try using 'df.method({col: value}, inplace=True)' or df[col] = df[col].method(value) instead, to perform the operation inplace on the original object.\n",
            "\n",
            "\n",
            "  data['Age'].fillna(data['Age'].median(), inplace=True)\n",
            "<ipython-input-2-5415c18a99d4>:25: FutureWarning: A value is trying to be set on a copy of a DataFrame or Series through chained assignment using an inplace method.\n",
            "The behavior will change in pandas 3.0. This inplace method will never work because the intermediate object on which we are setting values always behaves as a copy.\n",
            "\n",
            "For example, when doing 'df[col].method(value, inplace=True)', try using 'df.method({col: value}, inplace=True)' or df[col] = df[col].method(value) instead, to perform the operation inplace on the original object.\n",
            "\n",
            "\n",
            "  data['Embarked'].fillna(data['Embarked'].mode()[0], inplace=True)\n",
            "<ipython-input-2-5415c18a99d4>:27: FutureWarning: A value is trying to be set on a copy of a DataFrame or Series through chained assignment using an inplace method.\n",
            "The behavior will change in pandas 3.0. This inplace method will never work because the intermediate object on which we are setting values always behaves as a copy.\n",
            "\n",
            "For example, when doing 'df[col].method(value, inplace=True)', try using 'df.method({col: value}, inplace=True)' or df[col] = df[col].method(value) instead, to perform the operation inplace on the original object.\n",
            "\n",
            "\n",
            "  data['Fare'].fillna(data['Fare'].median(), inplace=True)\n",
            "<ipython-input-2-5415c18a99d4>:23: FutureWarning: A value is trying to be set on a copy of a DataFrame or Series through chained assignment using an inplace method.\n",
            "The behavior will change in pandas 3.0. This inplace method will never work because the intermediate object on which we are setting values always behaves as a copy.\n",
            "\n",
            "For example, when doing 'df[col].method(value, inplace=True)', try using 'df.method({col: value}, inplace=True)' or df[col] = df[col].method(value) instead, to perform the operation inplace on the original object.\n",
            "\n",
            "\n",
            "  data['Age'].fillna(data['Age'].median(), inplace=True)\n",
            "<ipython-input-2-5415c18a99d4>:25: FutureWarning: A value is trying to be set on a copy of a DataFrame or Series through chained assignment using an inplace method.\n",
            "The behavior will change in pandas 3.0. This inplace method will never work because the intermediate object on which we are setting values always behaves as a copy.\n",
            "\n",
            "For example, when doing 'df[col].method(value, inplace=True)', try using 'df.method({col: value}, inplace=True)' or df[col] = df[col].method(value) instead, to perform the operation inplace on the original object.\n",
            "\n",
            "\n",
            "  data['Embarked'].fillna(data['Embarked'].mode()[0], inplace=True)\n",
            "<ipython-input-2-5415c18a99d4>:27: FutureWarning: A value is trying to be set on a copy of a DataFrame or Series through chained assignment using an inplace method.\n",
            "The behavior will change in pandas 3.0. This inplace method will never work because the intermediate object on which we are setting values always behaves as a copy.\n",
            "\n",
            "For example, when doing 'df[col].method(value, inplace=True)', try using 'df.method({col: value}, inplace=True)' or df[col] = df[col].method(value) instead, to perform the operation inplace on the original object.\n",
            "\n",
            "\n",
            "  data['Fare'].fillna(data['Fare'].median(), inplace=True)\n"
          ]
        },
        {
          "output_type": "display_data",
          "data": {
            "text/plain": [
              "<IPython.core.display.Javascript object>"
            ],
            "application/javascript": [
              "\n",
              "    async function download(id, filename, size) {\n",
              "      if (!google.colab.kernel.accessAllowed) {\n",
              "        return;\n",
              "      }\n",
              "      const div = document.createElement('div');\n",
              "      const label = document.createElement('label');\n",
              "      label.textContent = `Downloading \"${filename}\": `;\n",
              "      div.appendChild(label);\n",
              "      const progress = document.createElement('progress');\n",
              "      progress.max = size;\n",
              "      div.appendChild(progress);\n",
              "      document.body.appendChild(div);\n",
              "\n",
              "      const buffers = [];\n",
              "      let downloaded = 0;\n",
              "\n",
              "      const channel = await google.colab.kernel.comms.open(id);\n",
              "      // Send a message to notify the kernel that we're ready.\n",
              "      channel.send({})\n",
              "\n",
              "      for await (const message of channel.messages) {\n",
              "        // Send a message to notify the kernel that we're ready.\n",
              "        channel.send({})\n",
              "        if (message.buffers) {\n",
              "          for (const buffer of message.buffers) {\n",
              "            buffers.push(buffer);\n",
              "            downloaded += buffer.byteLength;\n",
              "            progress.value = downloaded;\n",
              "          }\n",
              "        }\n",
              "      }\n",
              "      const blob = new Blob(buffers, {type: 'application/binary'});\n",
              "      const a = document.createElement('a');\n",
              "      a.href = window.URL.createObjectURL(blob);\n",
              "      a.download = filename;\n",
              "      div.appendChild(a);\n",
              "      a.click();\n",
              "      div.remove();\n",
              "    }\n",
              "  "
            ]
          },
          "metadata": {}
        },
        {
          "output_type": "display_data",
          "data": {
            "text/plain": [
              "<IPython.core.display.Javascript object>"
            ],
            "application/javascript": [
              "download(\"download_d9e72080-8f58-47ce-b1da-195d389d4931\", \"submission.csv\", 2839)"
            ]
          },
          "metadata": {}
        }
      ]
    },
    {
      "cell_type": "code",
      "source": [
        "# Importar bibliotecas necesarias para el modelo\n",
        "from sklearn.ensemble import RandomForestClassifier\n",
        "\n",
        "# Entrenar un modelo de Random Forest\n",
        "rf_model = RandomForestClassifier(n_estimators=100, random_state=42)\n",
        "rf_model.fit(X_train, y_train)\n",
        "\n",
        "# Predecir en el conjunto de validación y evaluar el rendimiento\n",
        "y_pred_rf = rf_model.predict(X_val)\n",
        "print(\"Accuracy en el conjunto de validación con Random Forest:\", accuracy_score(y_val, y_pred_rf))\n",
        "print(\"\\nInforme de clasificación:\\n\", classification_report(y_val, y_pred_rf))\n",
        "\n",
        "# Hacer predicciones en el conjunto de prueba\n",
        "test_predictions_rf = rf_model.predict(test_data[features])\n",
        "\n",
        "# Crear un archivo de envío para Random Forest\n",
        "submission_rf = pd.DataFrame({\n",
        "    'PassengerId': test_data['PassengerId'],\n",
        "    'Survived': test_predictions_rf\n",
        "})\n",
        "\n",
        "# Guardar el archivo CSV de envío\n",
        "submission_rf.to_csv('submission_rf.csv', index=False)\n",
        "print(\"Archivo 'submission_rf.csv' creado con éxito.\")\n",
        "\n",
        "# Descargar el archivo de predicción\n",
        "from google.colab import files\n",
        "files.download('submission_rf.csv')\n"
      ],
      "metadata": {
        "colab": {
          "base_uri": "https://localhost:8080/",
          "height": 243
        },
        "id": "Se8sDO9i0F8B",
        "outputId": "3aae7173-94bd-4ee3-d79d-e814b285f6f2"
      },
      "execution_count": 3,
      "outputs": [
        {
          "output_type": "stream",
          "name": "stdout",
          "text": [
            "Accuracy en el conjunto de validación con Random Forest: 0.8212290502793296\n",
            "\n",
            "Informe de clasificación:\n",
            "               precision    recall  f1-score   support\n",
            "\n",
            "           0       0.83      0.88      0.85       105\n",
            "           1       0.81      0.74      0.77        74\n",
            "\n",
            "    accuracy                           0.82       179\n",
            "   macro avg       0.82      0.81      0.81       179\n",
            "weighted avg       0.82      0.82      0.82       179\n",
            "\n",
            "Archivo 'submission_rf.csv' creado con éxito.\n"
          ]
        },
        {
          "output_type": "display_data",
          "data": {
            "text/plain": [
              "<IPython.core.display.Javascript object>"
            ],
            "application/javascript": [
              "\n",
              "    async function download(id, filename, size) {\n",
              "      if (!google.colab.kernel.accessAllowed) {\n",
              "        return;\n",
              "      }\n",
              "      const div = document.createElement('div');\n",
              "      const label = document.createElement('label');\n",
              "      label.textContent = `Downloading \"${filename}\": `;\n",
              "      div.appendChild(label);\n",
              "      const progress = document.createElement('progress');\n",
              "      progress.max = size;\n",
              "      div.appendChild(progress);\n",
              "      document.body.appendChild(div);\n",
              "\n",
              "      const buffers = [];\n",
              "      let downloaded = 0;\n",
              "\n",
              "      const channel = await google.colab.kernel.comms.open(id);\n",
              "      // Send a message to notify the kernel that we're ready.\n",
              "      channel.send({})\n",
              "\n",
              "      for await (const message of channel.messages) {\n",
              "        // Send a message to notify the kernel that we're ready.\n",
              "        channel.send({})\n",
              "        if (message.buffers) {\n",
              "          for (const buffer of message.buffers) {\n",
              "            buffers.push(buffer);\n",
              "            downloaded += buffer.byteLength;\n",
              "            progress.value = downloaded;\n",
              "          }\n",
              "        }\n",
              "      }\n",
              "      const blob = new Blob(buffers, {type: 'application/binary'});\n",
              "      const a = document.createElement('a');\n",
              "      a.href = window.URL.createObjectURL(blob);\n",
              "      a.download = filename;\n",
              "      div.appendChild(a);\n",
              "      a.click();\n",
              "      div.remove();\n",
              "    }\n",
              "  "
            ]
          },
          "metadata": {}
        },
        {
          "output_type": "display_data",
          "data": {
            "text/plain": [
              "<IPython.core.display.Javascript object>"
            ],
            "application/javascript": [
              "download(\"download_46d6397d-e6ea-45d8-a011-92cd0b724826\", \"submission_rf.csv\", 2839)"
            ]
          },
          "metadata": {}
        }
      ]
    },
    {
      "cell_type": "code",
      "source": [
        "# Instalar la biblioteca de XGBoost si es necesario\n",
        "!pip install xgboost\n",
        "\n",
        "# Importar la biblioteca de XGBoost\n",
        "import xgboost as xgb\n",
        "from sklearn.metrics import accuracy_score, classification_report\n",
        "\n",
        "# Crear el modelo de XGBoost\n",
        "xgb_model = xgb.XGBClassifier(n_estimators=100, learning_rate=0.1, max_depth=5, random_state=42)\n",
        "\n",
        "# Entrenar el modelo\n",
        "xgb_model.fit(X_train, y_train)\n",
        "\n",
        "# Predecir en el conjunto de validación y evaluar el rendimiento\n",
        "y_pred_xgb = xgb_model.predict(X_val)\n",
        "print(\"Accuracy en el conjunto de validación con XGBoost:\", accuracy_score(y_val, y_pred_xgb))\n",
        "print(\"\\nInforme de clasificación:\\n\", classification_report(y_val, y_pred_xgb))\n",
        "\n",
        "# Hacer predicciones en el conjunto de prueba\n",
        "test_predictions_xgb = xgb_model.predict(test_data[features])\n",
        "\n",
        "# Crear un archivo de envío para XGBoost\n",
        "submission_xgb = pd.DataFrame({\n",
        "    'PassengerId': test_data['PassengerId'],\n",
        "    'Survived': test_predictions_xgb\n",
        "})\n",
        "\n",
        "# Guardar el archivo CSV de envío\n",
        "submission_xgb.to_csv('submission_xgb.csv', index=False)\n",
        "print(\"Archivo 'submission_xgb.csv' creado con éxito.\")\n",
        "\n",
        "# Descargar el archivo de predicción\n",
        "from google.colab import files\n",
        "files.download('submission_xgb.csv')\n"
      ],
      "metadata": {
        "colab": {
          "base_uri": "https://localhost:8080/",
          "height": 312
        },
        "id": "fZgDjwZ31AVT",
        "outputId": "a08f6ecf-8041-4e6e-937c-65b3fc1395ad"
      },
      "execution_count": 4,
      "outputs": [
        {
          "output_type": "stream",
          "name": "stdout",
          "text": [
            "Requirement already satisfied: xgboost in /usr/local/lib/python3.10/dist-packages (2.1.2)\n",
            "Requirement already satisfied: numpy in /usr/local/lib/python3.10/dist-packages (from xgboost) (1.26.4)\n",
            "Requirement already satisfied: nvidia-nccl-cu12 in /usr/local/lib/python3.10/dist-packages (from xgboost) (2.23.4)\n",
            "Requirement already satisfied: scipy in /usr/local/lib/python3.10/dist-packages (from xgboost) (1.13.1)\n",
            "Accuracy en el conjunto de validación con XGBoost: 0.7932960893854749\n",
            "\n",
            "Informe de clasificación:\n",
            "               precision    recall  f1-score   support\n",
            "\n",
            "           0       0.80      0.87      0.83       105\n",
            "           1       0.78      0.69      0.73        74\n",
            "\n",
            "    accuracy                           0.79       179\n",
            "   macro avg       0.79      0.78      0.78       179\n",
            "weighted avg       0.79      0.79      0.79       179\n",
            "\n",
            "Archivo 'submission_xgb.csv' creado con éxito.\n"
          ]
        },
        {
          "output_type": "display_data",
          "data": {
            "text/plain": [
              "<IPython.core.display.Javascript object>"
            ],
            "application/javascript": [
              "\n",
              "    async function download(id, filename, size) {\n",
              "      if (!google.colab.kernel.accessAllowed) {\n",
              "        return;\n",
              "      }\n",
              "      const div = document.createElement('div');\n",
              "      const label = document.createElement('label');\n",
              "      label.textContent = `Downloading \"${filename}\": `;\n",
              "      div.appendChild(label);\n",
              "      const progress = document.createElement('progress');\n",
              "      progress.max = size;\n",
              "      div.appendChild(progress);\n",
              "      document.body.appendChild(div);\n",
              "\n",
              "      const buffers = [];\n",
              "      let downloaded = 0;\n",
              "\n",
              "      const channel = await google.colab.kernel.comms.open(id);\n",
              "      // Send a message to notify the kernel that we're ready.\n",
              "      channel.send({})\n",
              "\n",
              "      for await (const message of channel.messages) {\n",
              "        // Send a message to notify the kernel that we're ready.\n",
              "        channel.send({})\n",
              "        if (message.buffers) {\n",
              "          for (const buffer of message.buffers) {\n",
              "            buffers.push(buffer);\n",
              "            downloaded += buffer.byteLength;\n",
              "            progress.value = downloaded;\n",
              "          }\n",
              "        }\n",
              "      }\n",
              "      const blob = new Blob(buffers, {type: 'application/binary'});\n",
              "      const a = document.createElement('a');\n",
              "      a.href = window.URL.createObjectURL(blob);\n",
              "      a.download = filename;\n",
              "      div.appendChild(a);\n",
              "      a.click();\n",
              "      div.remove();\n",
              "    }\n",
              "  "
            ]
          },
          "metadata": {}
        },
        {
          "output_type": "display_data",
          "data": {
            "text/plain": [
              "<IPython.core.display.Javascript object>"
            ],
            "application/javascript": [
              "download(\"download_ff51d3e1-d6a2-4180-b9fe-5ca290459446\", \"submission_xgb.csv\", 2839)"
            ]
          },
          "metadata": {}
        }
      ]
    },
    {
      "cell_type": "code",
      "source": [
        "from sklearn.model_selection import GridSearchCV\n",
        "from sklearn.ensemble import RandomForestClassifier\n",
        "import xgboost as xgb\n",
        "\n",
        "# Ajuste de hiperparámetros para Random Forest\n",
        "param_grid_rf = {\n",
        "    'n_estimators': [100, 200, 300],\n",
        "    'max_depth': [5, 10, 15],\n",
        "    'min_samples_split': [2, 5, 10],\n",
        "    'min_samples_leaf': [1, 2, 4]\n",
        "}\n",
        "\n",
        "rf_model = RandomForestClassifier(random_state=42)\n",
        "grid_search_rf = GridSearchCV(estimator=rf_model, param_grid=param_grid_rf, cv=3, n_jobs=-1, scoring='accuracy')\n",
        "grid_search_rf.fit(X_train, y_train)\n",
        "\n",
        "print(\"Mejores hiperparámetros para Random Forest:\", grid_search_rf.best_params_)\n",
        "print(\"Mejor puntuación de validación:\", grid_search_rf.best_score_)\n",
        "\n",
        "# Ajuste de hiperparámetros para XGBoost\n",
        "param_grid_xgb = {\n",
        "    'n_estimators': [100, 200, 300],\n",
        "    'learning_rate': [0.01, 0.1, 0.2],\n",
        "    'max_depth': [3, 5, 7],\n",
        "    'subsample': [0.6, 0.8, 1.0]\n",
        "}\n",
        "\n",
        "xgb_model = xgb.XGBClassifier(random_state=42)\n",
        "grid_search_xgb = GridSearchCV(estimator=xgb_model, param_grid=param_grid_xgb, cv=3, n_jobs=-1, scoring='accuracy')\n",
        "grid_search_xgb.fit(X_train, y_train)\n",
        "\n",
        "print(\"Mejores hiperparámetros para XGBoost:\", grid_search_xgb.best_params_)\n",
        "print(\"Mejor puntuación de validación:\", grid_search_xgb.best_score_)\n"
      ],
      "metadata": {
        "colab": {
          "base_uri": "https://localhost:8080/"
        },
        "id": "QacG9wDi1vAg",
        "outputId": "ffc4fbee-58d2-4edd-9742-d204c74a11c3"
      },
      "execution_count": 5,
      "outputs": [
        {
          "output_type": "stream",
          "name": "stderr",
          "text": [
            "/usr/local/lib/python3.10/dist-packages/numpy/ma/core.py:2820: RuntimeWarning: invalid value encountered in cast\n",
            "  _data = np.array(data, dtype=dtype, copy=copy,\n"
          ]
        },
        {
          "output_type": "stream",
          "name": "stdout",
          "text": [
            "Mejores hiperparámetros para Random Forest: {'max_depth': 5, 'min_samples_leaf': 2, 'min_samples_split': 5, 'n_estimators': 100}\n",
            "Mejor puntuación de validación: 0.8328723894621138\n",
            "Mejores hiperparámetros para XGBoost: {'learning_rate': 0.01, 'max_depth': 3, 'n_estimators': 300, 'subsample': 0.8}\n",
            "Mejor puntuación de validación: 0.8300712690139346\n"
          ]
        }
      ]
    },
    {
      "cell_type": "code",
      "source": [
        "# Entrenar el modelo de Random Forest con los mejores hiperparámetros\n",
        "best_rf_model = grid_search_rf.best_estimator_\n",
        "best_rf_model.fit(X_train, y_train)\n",
        "\n",
        "# Predecir en el conjunto de validación y evaluar el rendimiento\n",
        "y_pred_best_rf = best_rf_model.predict(X_val)\n",
        "print(\"Accuracy en el conjunto de validación con Random Forest ajustado:\", accuracy_score(y_val, y_pred_best_rf))\n",
        "print(\"\\nInforme de clasificación:\\n\", classification_report(y_val, y_pred_best_rf))\n",
        "\n",
        "# Hacer predicciones en el conjunto de prueba\n",
        "test_predictions_best_rf = best_rf_model.predict(test_data[features])\n",
        "\n",
        "# Crear un archivo de envío para Random Forest ajustado\n",
        "submission_best_rf = pd.DataFrame({\n",
        "    'PassengerId': test_data['PassengerId'],\n",
        "    'Survived': test_predictions_best_rf\n",
        "})\n",
        "submission_best_rf.to_csv('submission_best_rf.csv', index=False)\n",
        "print(\"Archivo 'submission_best_rf.csv' creado con éxito.\")\n",
        "\n",
        "# Descargar el archivo de predicción\n",
        "from google.colab import files\n",
        "files.download('submission_best_rf.csv')\n",
        "\n",
        "# Entrenar el modelo de XGBoost con los mejores hiperparámetros\n",
        "best_xgb_model = grid_search_xgb.best_estimator_\n",
        "best_xgb_model.fit(X_train, y_train)\n",
        "\n",
        "# Predecir en el conjunto de validación y evaluar el rendimiento\n",
        "y_pred_best_xgb = best_xgb_model.predict(X_val)\n",
        "print(\"Accuracy en el conjunto de validación con XGBoost ajustado:\", accuracy_score(y_val, y_pred_best_xgb))\n",
        "print(\"\\nInforme de clasificación:\\n\", classification_report(y_val, y_pred_best_xgb))\n",
        "\n",
        "# Hacer predicciones en el conjunto de prueba\n",
        "test_predictions_best_xgb = best_xgb_model.predict(test_data[features])\n",
        "\n",
        "# Crear un archivo de envío para XGBoost ajustado\n",
        "submission_best_xgb = pd.DataFrame({\n",
        "    'PassengerId': test_data['PassengerId'],\n",
        "    'Survived': test_predictions_best_xgb\n",
        "})\n",
        "submission_best_xgb.to_csv('submission_best_xgb.csv', index=False)\n",
        "print(\"Archivo 'submission_best_xgb.csv' creado con éxito.\")\n",
        "\n",
        "# Descargar el archivo de predicción\n",
        "files.download('submission_best_xgb.csv')\n"
      ],
      "metadata": {
        "colab": {
          "base_uri": "https://localhost:8080/",
          "height": 468
        },
        "id": "oOHqLQpw2t2C",
        "outputId": "913b0efd-f126-4e1c-d09f-50ce4ec29012"
      },
      "execution_count": 6,
      "outputs": [
        {
          "output_type": "stream",
          "name": "stdout",
          "text": [
            "Accuracy en el conjunto de validación con Random Forest ajustado: 0.8268156424581006\n",
            "\n",
            "Informe de clasificación:\n",
            "               precision    recall  f1-score   support\n",
            "\n",
            "           0       0.81      0.92      0.86       105\n",
            "           1       0.86      0.69      0.77        74\n",
            "\n",
            "    accuracy                           0.83       179\n",
            "   macro avg       0.84      0.81      0.81       179\n",
            "weighted avg       0.83      0.83      0.82       179\n",
            "\n",
            "Archivo 'submission_best_rf.csv' creado con éxito.\n"
          ]
        },
        {
          "output_type": "display_data",
          "data": {
            "text/plain": [
              "<IPython.core.display.Javascript object>"
            ],
            "application/javascript": [
              "\n",
              "    async function download(id, filename, size) {\n",
              "      if (!google.colab.kernel.accessAllowed) {\n",
              "        return;\n",
              "      }\n",
              "      const div = document.createElement('div');\n",
              "      const label = document.createElement('label');\n",
              "      label.textContent = `Downloading \"${filename}\": `;\n",
              "      div.appendChild(label);\n",
              "      const progress = document.createElement('progress');\n",
              "      progress.max = size;\n",
              "      div.appendChild(progress);\n",
              "      document.body.appendChild(div);\n",
              "\n",
              "      const buffers = [];\n",
              "      let downloaded = 0;\n",
              "\n",
              "      const channel = await google.colab.kernel.comms.open(id);\n",
              "      // Send a message to notify the kernel that we're ready.\n",
              "      channel.send({})\n",
              "\n",
              "      for await (const message of channel.messages) {\n",
              "        // Send a message to notify the kernel that we're ready.\n",
              "        channel.send({})\n",
              "        if (message.buffers) {\n",
              "          for (const buffer of message.buffers) {\n",
              "            buffers.push(buffer);\n",
              "            downloaded += buffer.byteLength;\n",
              "            progress.value = downloaded;\n",
              "          }\n",
              "        }\n",
              "      }\n",
              "      const blob = new Blob(buffers, {type: 'application/binary'});\n",
              "      const a = document.createElement('a');\n",
              "      a.href = window.URL.createObjectURL(blob);\n",
              "      a.download = filename;\n",
              "      div.appendChild(a);\n",
              "      a.click();\n",
              "      div.remove();\n",
              "    }\n",
              "  "
            ]
          },
          "metadata": {}
        },
        {
          "output_type": "display_data",
          "data": {
            "text/plain": [
              "<IPython.core.display.Javascript object>"
            ],
            "application/javascript": [
              "download(\"download_f9d26860-eb08-46b2-9925-b260f0b2758a\", \"submission_best_rf.csv\", 2839)"
            ]
          },
          "metadata": {}
        },
        {
          "output_type": "stream",
          "name": "stdout",
          "text": [
            "Accuracy en el conjunto de validación con XGBoost ajustado: 0.7988826815642458\n",
            "\n",
            "Informe de clasificación:\n",
            "               precision    recall  f1-score   support\n",
            "\n",
            "           0       0.80      0.88      0.84       105\n",
            "           1       0.80      0.69      0.74        74\n",
            "\n",
            "    accuracy                           0.80       179\n",
            "   macro avg       0.80      0.78      0.79       179\n",
            "weighted avg       0.80      0.80      0.80       179\n",
            "\n",
            "Archivo 'submission_best_xgb.csv' creado con éxito.\n"
          ]
        },
        {
          "output_type": "display_data",
          "data": {
            "text/plain": [
              "<IPython.core.display.Javascript object>"
            ],
            "application/javascript": [
              "\n",
              "    async function download(id, filename, size) {\n",
              "      if (!google.colab.kernel.accessAllowed) {\n",
              "        return;\n",
              "      }\n",
              "      const div = document.createElement('div');\n",
              "      const label = document.createElement('label');\n",
              "      label.textContent = `Downloading \"${filename}\": `;\n",
              "      div.appendChild(label);\n",
              "      const progress = document.createElement('progress');\n",
              "      progress.max = size;\n",
              "      div.appendChild(progress);\n",
              "      document.body.appendChild(div);\n",
              "\n",
              "      const buffers = [];\n",
              "      let downloaded = 0;\n",
              "\n",
              "      const channel = await google.colab.kernel.comms.open(id);\n",
              "      // Send a message to notify the kernel that we're ready.\n",
              "      channel.send({})\n",
              "\n",
              "      for await (const message of channel.messages) {\n",
              "        // Send a message to notify the kernel that we're ready.\n",
              "        channel.send({})\n",
              "        if (message.buffers) {\n",
              "          for (const buffer of message.buffers) {\n",
              "            buffers.push(buffer);\n",
              "            downloaded += buffer.byteLength;\n",
              "            progress.value = downloaded;\n",
              "          }\n",
              "        }\n",
              "      }\n",
              "      const blob = new Blob(buffers, {type: 'application/binary'});\n",
              "      const a = document.createElement('a');\n",
              "      a.href = window.URL.createObjectURL(blob);\n",
              "      a.download = filename;\n",
              "      div.appendChild(a);\n",
              "      a.click();\n",
              "      div.remove();\n",
              "    }\n",
              "  "
            ]
          },
          "metadata": {}
        },
        {
          "output_type": "display_data",
          "data": {
            "text/plain": [
              "<IPython.core.display.Javascript object>"
            ],
            "application/javascript": [
              "download(\"download_cded6dc6-df14-4cbb-ade8-a4ee3a3ddae9\", \"submission_best_xgb.csv\", 2839)"
            ]
          },
          "metadata": {}
        }
      ]
    },
    {
      "cell_type": "markdown",
      "source": [
        "**Resumen Completo del Análisis y Resultados**\n",
        "\n",
        "El proyecto consistió en predecir la supervivencia de los pasajeros del Titanic utilizando diferentes algoritmos de machine learning. El objetivo fue explorar, ajustar y evaluar modelos para identificar cuál proporcionaba el mejor rendimiento en términos de precisión. A continuación, se detallan los pasos realizados y los resultados obtenidos:\n",
        "\n",
        "**1. Análisis Exploratorio de Datos**\n",
        "\n",
        "Se realizó un análisis inicial de los datos para identificar patrones relevantes:\n",
        "\n",
        "*   Distribución de supervivientes: La mayoría de los pasajeros no sobrevivieron.\n",
        "*   Supervivencia por género: Las mujeres tenían una probabilidad significativamente mayor de sobrevivir en comparación con los hombres.\n",
        "*   Supervivencia por género: Las mujeres tenían una probabilidad significativamente mayor de sobrevivir en comparación con los hombres.\n",
        "* Supervivencia por clase de boleto: Los pasajeros de primera clase mostraron tasas de supervivencia más altas, mientras que los de tercera clase tuvieron mayor cantidad de fallecimientos.\n",
        "*   Distribución de edades: La mayoría de los pasajeros tenían entre 20 y 40 años.\n",
        "\n",
        "**2. Modelos Probados**\n",
        "\n",
        "Se entrenaron y evaluaron varios modelos con los datos disponibles. Los resultados en términos de puntuación en Kaggle fueron los siguientes:\n",
        "\n",
        "**Regresión Logística:**\n",
        "\n",
        "*   Puntuación: 0.76315.\n",
        "*   Modelo básico, rápido de entrenar y evaluar, con un desempeño sólido.\n",
        "\n",
        "**Random Forest (sin ajustar):**\n",
        "\n",
        "*   Puntuación: 0.74641.\n",
        "*   Modelo no lineal que capturó relaciones más complejas, pero su rendimiento inicial fue inferior al de la Regresión Logística.\n",
        "\n",
        "**XGBoost (sin ajustar):**\n",
        "\n",
        "*   Puntuación: 0.74401.\n",
        "*   Aunque es un modelo avanzado, sin ajustes no logró superar a los modelos anteriores.\n",
        "\n",
        "**3. Ajuste de Hiperparámetros**\n",
        "\n",
        "Para mejorar los resultados, se aplicó Grid Search para ajustar los hiperparámetros de los modelos avanzados:\n",
        "\n",
        "**Random Forest (ajustado):**\n",
        "* Hiperparámetros ajustados: Número de árboles (n_estimators), profundidad máxima (max_depth), tamaño mínimo de hojas (min_samples_leaf) y divisiones (min_samples_split).\n",
        "* Puntuación: 0.78229.\n",
        "\n",
        "**XGBoost (ajustado):**\n",
        "\n",
        "* Hiperparámetros ajustados: Número de árboles (n_estimators), tasa de aprendizaje (learning_rate), profundidad máxima (max_depth) y subconjunto de datos (subsample).\n",
        "* Puntuación: 0.78229.\n",
        "\n",
        "Ambos modelos ajustados mostraron un rendimiento óptimo, superando significativamente a sus versiones básicas y a la Regresión Logística.\n",
        "\n",
        "**4. Conclusión General**\n",
        "\n",
        "El ajuste de hiperparámetros fue clave para maximizar el rendimiento de los modelos avanzados, especialmente Random Forest y XGBoost, que alcanzaron la mejor puntuación de 0.78229. Esto demuestra la importancia de optimizar los modelos y explorar características avanzadas para problemas complejos.\n",
        "\n",
        "En general, este análisis demostró cómo la combinación de un análisis de datos sólido, modelos avanzados y ajuste de hiperparámetros puede generar resultados competitivos en competencias de machine learning como Kaggle."
      ],
      "metadata": {
        "id": "qeFSqoXpheUh"
      }
    }
  ],
  "metadata": {
    "kernelspec": {
      "display_name": "Python 3 (ipykernel)",
      "language": "python",
      "name": "python3"
    },
    "language_info": {
      "codemirror_mode": {
        "name": "ipython",
        "version": 3
      },
      "file_extension": ".py",
      "mimetype": "text/x-python",
      "name": "python",
      "nbconvert_exporter": "python",
      "pygments_lexer": "ipython3",
      "version": "3.8.10"
    },
    "colab": {
      "provenance": []
    }
  },
  "nbformat": 4,
  "nbformat_minor": 0
}